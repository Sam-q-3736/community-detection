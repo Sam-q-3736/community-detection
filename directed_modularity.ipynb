{
 "cells": [
  {
   "cell_type": "markdown",
   "metadata": {},
   "source": [
    "### Community detection in directed graphs by applying spectral methods to the modularity matrix\n",
    "\n",
    "See Leight and Newman, 2008, \"Community Structure in Directed Networks\". See also the undirected modularity file, which has a walkthrough of how similar code is structured. "
   ]
  },
  {
   "cell_type": "code",
   "execution_count": 6,
   "metadata": {},
   "outputs": [],
   "source": [
    "import numpy as np\n",
    "import matplotlib.pyplot as plt"
   ]
  },
  {
   "cell_type": "code",
   "execution_count": 7,
   "metadata": {},
   "outputs": [],
   "source": [
    "def get_split(B, m):\n",
    "    ews, evs = np.linalg.eig(B + B.T)\n",
    "    s = np.sign(evs[:, 0])\n",
    "    dQ = np.dot(s, np.dot(B + B.T, s)) / (4 * m)\n",
    "    return s, dQ"
   ]
  },
  {
   "cell_type": "code",
   "execution_count": 8,
   "metadata": {},
   "outputs": [],
   "source": [
    "def get_Bg(B, idx):\n",
    "    n = np.shape(idx)[0]\n",
    "    Bg = np.copy(B)\n",
    "\n",
    "    for i in range(n):\n",
    "        Bg[i, i] -= (np.sum(B[i, idx]) + np.sum(B[idx, i])) / 2\n",
    "\n",
    "    return Bg[idx, :][:, idx]"
   ]
  },
  {
   "cell_type": "code",
   "execution_count": 9,
   "metadata": {},
   "outputs": [],
   "source": [
    "def modularity_parition(adj, tol = 0.001):\n",
    "    n = np.shape(adj)[0]\n",
    "    m = np.sum(adj) # total number of edges\n",
    "\n",
    "    labels = np.zeros(n) # track vertex labels\n",
    "    Q = 0 # modularity\n",
    "    last_comm = 0 # previously labeled community\n",
    "    queue = [0]\n",
    "\n",
    "    deg_in = np.zeros(n)\n",
    "    deg_out = np.zeros(n)\n",
    "    for i in range(n):\n",
    "        deg_in[i] = np.sum(adj[:, i])\n",
    "        deg_out[i] = np.sum(adj[i, :])\n",
    "    \n",
    "    B = adj - np.outer(deg_in, deg_out) / m\n",
    "\n",
    "    while(len(queue) > 0):\n",
    "\n",
    "        comm = queue.pop(0)\n",
    "        idx = labels == comm\n",
    "        \n",
    "        Bg = get_Bg(B, idx)\n",
    "        s, dQ = get_split(Bg, m)\n",
    "\n",
    "        # help indexing\n",
    "        if dQ > 0.001:\n",
    "            labels[idx] += last_comm + (s + 3)/2\n",
    "            queue.append(last_comm + 1)\n",
    "            queue.append(last_comm + 2)\n",
    "\n",
    "            last_comm = last_comm + 2\n",
    "            Q = Q + dQ\n",
    "\n",
    "        return s, Q\n",
    "    "
   ]
  },
  {
   "cell_type": "code",
   "execution_count": null,
   "metadata": {},
   "outputs": [],
   "source": []
  }
 ],
 "metadata": {
  "kernelspec": {
   "display_name": "Python 3",
   "language": "python",
   "name": "python3"
  },
  "language_info": {
   "codemirror_mode": {
    "name": "ipython",
    "version": 3
   },
   "file_extension": ".py",
   "mimetype": "text/x-python",
   "name": "python",
   "nbconvert_exporter": "python",
   "pygments_lexer": "ipython3",
   "version": "3.13.1"
  }
 },
 "nbformat": 4,
 "nbformat_minor": 2
}
